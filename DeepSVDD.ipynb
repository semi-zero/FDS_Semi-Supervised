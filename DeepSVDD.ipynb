{
 "cells": [
  {
   "cell_type": "markdown",
   "metadata": {},
   "source": [
    "# **DeepSVDD**"
   ]
  },
  {
   "cell_type": "markdown",
   "metadata": {},
   "source": [
    "## **라이브러리 및 데이터 불러오기**"
   ]
  },
  {
   "cell_type": "code",
   "execution_count": 2,
   "metadata": {},
   "outputs": [],
   "source": [
    "import numpy as np\n",
    "import easydict\n",
    "import pandas as pd\n",
    "import torch\n",
    "import torch.nn as nn\n",
    "import torch.nn.functional as F\n",
    "from torch.utils import data\n",
    "from torch.utils.data import DataLoader\n",
    "#from torchvision import datasets, transforms\n",
    "#from PIL import Image\n",
    "from sklearn.metrics import roc_auc_score, recall_score, precision_score, confusion_matrix\n",
    "from sklearn.preprocessing import LabelEncoder\n",
    "import matplotlib.pyplot as plt\n",
    "import seaborn as sns"
   ]
  },
  {
   "cell_type": "code",
   "execution_count": 3,
   "metadata": {},
   "outputs": [],
   "source": [
    "train=pd.read_csv('../train.csv')\n",
    "test=pd.read_csv('../test.csv')\n",
    "train=train.drop('FRST_RCV_DT', axis=1)\n",
    "test=test.drop('FRST_RCV_DT', axis=1)\n",
    "target='FDS_CATH'"
   ]
  },
  {
   "cell_type": "code",
   "execution_count": 4,
   "metadata": {},
   "outputs": [],
   "source": [
    "nunique = train.nunique()\n",
    "types = train.dtypes\n",
    "\n",
    "for col in train.columns:\n",
    "    if types[col] == 'object' or nunique[col] <200:\n",
    "        l_enc= LabelEncoder()\n",
    "        train[col]= train[col].fillna(\"VV_likely\")\n",
    "        train[col]= l_enc.fit_transform(train[col].values)\n",
    "        test[col]=l_enc.transform(test[col].values)\n",
    "    else:\n",
    "        train.fillna(train.loc[train_indices, col].mean(), inplace=True)"
   ]
  },
  {
   "cell_type": "markdown",
   "metadata": {},
   "source": [
    "## **범주형 변수를 임베딩**"
   ]
  },
  {
   "cell_type": "code",
   "execution_count": 21,
   "metadata": {},
   "outputs": [
    {
     "name": "stderr",
     "output_type": "stream",
     "text": [
      "/usr/local/lib/python3.6/site-packages/ipykernel_launcher.py:3: SettingWithCopyWarning: \n",
      "A value is trying to be set on a copy of a slice from a DataFrame.\n",
      "Try using .loc[row_indexer,col_indexer] = value instead\n",
      "\n",
      "See the caveats in the documentation: http://pandas.pydata.org/pandas-docs/stable/user_guide/indexing.html#returning-a-view-versus-a-copy\n",
      "  This is separate from the ipykernel package so we can avoid doing imports until\n"
     ]
    }
   ],
   "source": [
    "embed=pd.read_csv('embedding_df.csv')\n",
    "embed_train=embed.iloc[:len(train),:]\n",
    "embed_train['FDS_CATH']=train['FDS_CATH']\n",
    "embed_test=embed.iloc[len(train):,:].reset_index(drop=True)\n",
    "embed_test['FDS_CATH']=test['FDS_CATH']"
   ]
  },
  {
   "cell_type": "code",
   "execution_count": 22,
   "metadata": {},
   "outputs": [
    {
     "name": "stderr",
     "output_type": "stream",
     "text": [
      "/home/users/adk8400153/.local/lib/python3.6/site-packages/pandas/core/indexing.py:494: SettingWithCopyWarning: \n",
      "A value is trying to be set on a copy of a slice from a DataFrame.\n",
      "Try using .loc[row_indexer,col_indexer] = value instead\n",
      "\n",
      "See the caveats in the documentation: http://pandas.pydata.org/pandas-docs/stable/user_guide/indexing.html#returning-a-view-versus-a-copy\n",
      "  self.obj[item] = s\n"
     ]
    }
   ],
   "source": [
    "#scaler\n",
    "from sklearn.preprocessing import StandardScaler\n",
    "from sklearn.preprocessing import MinMaxScaler\n",
    "scaler=MinMaxScaler()\n",
    "embed_train.iloc[:,:-1]=scaler.fit_transform(embed_train.iloc[:,:-1])\n",
    "embed_test.iloc[:,:-1]=scaler.transform(embed_test.iloc[:,:-1])"
   ]
  },
  {
   "cell_type": "code",
   "execution_count": 23,
   "metadata": {},
   "outputs": [],
   "source": [
    "train_copy=embed_train.copy()\n",
    "test_copy=embed_test.copy()"
   ]
  },
  {
   "cell_type": "markdown",
   "metadata": {},
   "source": [
    "## **논문 코드 tabular 데이터에 맞게 변환**"
   ]
  },
  {
   "cell_type": "code",
   "execution_count": 25,
   "metadata": {},
   "outputs": [],
   "source": [
    "class fraud_loader(data.Dataset):\n",
    "    def __init__(self, data, target):\n",
    "        self.data = data\n",
    "        self.target = target\n",
    "        \n",
    "    def __getitem__(self, index):\n",
    "        x = self.data[index]\n",
    "        y = self.target[index]\n",
    "        return x, y\n",
    "    \n",
    "    def __len__(self):\n",
    "        return len(self.data)\n",
    "    \n",
    "def get_fraud_data(args, data_dir='.'):\n",
    "    train = train_copy\n",
    "    test = test_copy\n",
    "    \n",
    "    x_train = torch.tensor(train.iloc[:,:-1].to_numpy(), dtype=torch.float32)\n",
    "    y_train = torch.tensor(train.iloc[:,-1].to_numpy(), dtype=torch.float32)\n",
    "    \n",
    "    x_train = x_train[np.where(y_train==0)]\n",
    "    y_train = y_train[np.where(y_train==0)]\n",
    "    \n",
    "    data_train = fraud_loader(x_train, y_train)\n",
    "    dataloader_train = DataLoader(data_train, batch_size=args.batch_size, shuffle=True, num_workers=1)\n",
    "  \n",
    "    \n",
    "    ####Test####\n",
    "    x_test = torch.tensor(test.iloc[:,:-1].to_numpy(), dtype=torch.float32)\n",
    "    y_test = torch.tensor(test.iloc[:,-1].to_numpy(), dtype=torch.float32)\n",
    "    \n",
    "    data_test = fraud_loader(x_test, y_test)\n",
    "    dataloader_test = DataLoader(data_test, batch_size=args.batch_size, shuffle=False, num_workers=1)\n",
    "    \n",
    "    return dataloader_train, dataloader_test"
   ]
  },
  {
   "cell_type": "code",
   "execution_count": 26,
   "metadata": {},
   "outputs": [],
   "source": [
    "device = torch.device('cuda' if torch.cuda.is_available() else 'cpu')\n",
    "args = easydict.EasyDict({\n",
    "    'num_epochs':20,\n",
    "    'num_epochs_ae':20, \n",
    "    'lr':1e-2,\n",
    "    'lr_ae':1e-3,\n",
    "    'weight_decay':5e-1,\n",
    "    'weight_decay_ae':5e-2,\n",
    "    'lr_milestones':[50],\n",
    "    'batch_size': 1024,\n",
    "    'pretrain': False, \n",
    "    'latent_dim': 4,\n",
    "    'normal_class':0\n",
    "})"
   ]
  },
  {
   "cell_type": "code",
   "execution_count": 27,
   "metadata": {},
   "outputs": [],
   "source": [
    "dataloader_train, dataloader_test = get_fraud_data(args)"
   ]
  },
  {
   "cell_type": "code",
   "execution_count": 28,
   "metadata": {},
   "outputs": [],
   "source": [
    "class DeepSVDD_network(nn.Module):\n",
    "    def __init__(self, z_dim=4):\n",
    "        super(DeepSVDD_network, self).__init__()\n",
    "        self.z_dim = z_dim\n",
    "        self.dropout = nn.Dropout(0.05)\n",
    "        \n",
    "        self.nn1 = nn.Linear(58, 128, bias=False)\n",
    "        self.nn2 = nn.Linear(128, 32, bias=False)\n",
    "        self.nn3 = nn.Linear(32, z_dim, bias=False)\n",
    "        \n",
    "        self.denn1 = nn.Linear(z_dim, 32, bias=False)\n",
    "        self.denn2 = nn.Linear(32, 128, bias=False)\n",
    "        self.denn3 = nn.Linear(128, 58, bias=False)\n",
    "        \n",
    "    def forward(self, x):\n",
    "        x = self.dropout(x)\n",
    "        x = self.nn1(x)\n",
    "        x = F.leaky_relu(x)\n",
    "        x = self.dropout(x)\n",
    "        x = self.nn2(x)\n",
    "        x = F.leaky_relu(x)\n",
    "        return self.nn3(x)\n",
    "    \n",
    "class pretrain_autoencoder(nn.Module):\n",
    "    def __init__(self, z_dim = 4):\n",
    "        super(pretrain_autoencoder, self).__init__()\n",
    "        self.z_dim = z_dim\n",
    "        self.dropout = nn.Dropout(0.05)\n",
    "        \n",
    "        self.nn1 = nn.Linear(58, 128, bias=False)\n",
    "        self.nn2 = nn.Linear(128, 32, bias=False)\n",
    "        self.nn3 = nn.Linear(32, z_dim, bias=False)\n",
    "        \n",
    "        self.denn1 = nn.Linear(z_dim, 32, bias=False)\n",
    "        self.denn2 = nn.Linear(32, 128, bias=False)\n",
    "        self.denn3 = nn.Linear(128, 58, bias=False)        \n",
    "    \n",
    "    def encoder(self, x):\n",
    "        x = self.dropout(x)\n",
    "        x = self.nn1(x)\n",
    "        x = F.leaky_relu(x)\n",
    "        x = self.dropout(x)\n",
    "        x = self.nn2(x)\n",
    "        x = F.leaky_relu(x)\n",
    "        return self.nn3(x)\n",
    "    \n",
    "    def decoder(self, x):\n",
    "        x = self.dropout(x)\n",
    "        x = self.denn1(x)\n",
    "        x = F.leaky_relu(x)\n",
    "        x = self.dropout(x)\n",
    "        x = self.denn2(x)\n",
    "        x = F.leaky_relu(x)\n",
    "        x = self.denn3(x)\n",
    "        return x\n",
    "    \n",
    "    #sigmoid해야 하나\n",
    "    \n",
    "    def forward(self, x):\n",
    "        z = self.encoder(x)\n",
    "        x_hat = self.decoder(z)\n",
    "        return x_hat"
   ]
  },
  {
   "cell_type": "code",
   "execution_count": 29,
   "metadata": {},
   "outputs": [],
   "source": [
    "class TrainerDeepSVDD:\n",
    "    def __init__(self, args, data_loader, device):\n",
    "        self.args = args\n",
    "        self.train_loader = data_loader\n",
    "        self.device = device\n",
    "        \n",
    "    def pretrain(self):\n",
    "        \"\"\"DeepSVDD모델에서 사용할 가중치를 학습시키는 AutoEncoder 학습단계\"\"\"\n",
    "        ae = pretrain_autoencoder(self.args.latent_dim).to(self.device)\n",
    "        ae.apply(weights_init_normal)\n",
    "        optimizer = torch.optim.Adam(ae.parameters(), lr = self.args.lr_ae, weight_decay=self.args.weight_decay_ae)\n",
    "        scheduler = torch.optim.lr_scheduler.MultiStepLR(optimizer, milestones = self.args.lr_milestones, gamma=0.1)\n",
    "        \n",
    "        ae.train()\n",
    "        for epoch in range(self.args.num_epochs_ae):\n",
    "            total_loss = 0\n",
    "            for x, _ in self.train_loader:\n",
    "                x = x.float().to(self.device)\n",
    "                \n",
    "                optimizer.zero_grad()\n",
    "                x_hat = ae(x)\n",
    "                reconst_loss = torch.mean(torch.sum((x_hat-x)**2, dim=tuple(range(1, x_hat.dim()))))\n",
    "                reconst_loss.backward()\n",
    "                optimizer.step()\n",
    "                \n",
    "                total_loss +=reconst_loss.item()\n",
    "            scheduler.step()\n",
    "            print('Pretrainin Autoencoder...Epoch:{}, Loss: {:.3f}'.format(\n",
    "            epoch, total_loss/len(self.train_loader)))\n",
    "        self.save_weights_for_DeepSVDD(ae, self.train_loader)\n",
    "    \n",
    "    def save_weights_for_DeepSVDD(self, model, dataloader):\n",
    "        \"\"\"학습된 AutoEncoder 가중치를 DeepSVDD 모델에 initialize 해주는 함수\"\"\"\n",
    "        c = self.set_c(model, dataloader)\n",
    "        net = DeepSVDD_network(self.args.latent_dim).to(self.device)\n",
    "        state_dict = model.state_dict()\n",
    "        net.load_state_dict(state_dict, strict=False)\n",
    "        torch.save({'center': c.cpu().data.numpy().tolist(), \n",
    "                   'net_dict': net.state_dict()}, './weights/pretrained_parameters.pth')\n",
    "        \n",
    "    def set_c(self, model, dataloader, eps=0.1):\n",
    "        model.eval()\n",
    "        z_ = []\n",
    "        with torch.no_grad():\n",
    "            for x, _ in dataloader:\n",
    "                x = x.float().to(self.device)\n",
    "                z = model.encoder(x)\n",
    "                z_.append(z.detach())\n",
    "        z_ = torch.cat(z_)\n",
    "        c = torch.mean(z_, dim=0)\n",
    "        c[(abs(c) < eps) & (c < 0)] = -eps\n",
    "        c[(abs(c) < eps) & (c > 0)] = eps\n",
    "        return c\n",
    "\n",
    "    \n",
    "    def train(self):\n",
    "        net = DeepSVDD_network().to(self.device)\n",
    "        \n",
    "        if self.args.pretrain == True:\n",
    "            state_dict = torch.load('./weights/pretrained_parameters.pth')\n",
    "            net.load_state_dict(state_dict['net_dict'])\n",
    "            c = torch.Tensor(state_dict['center']).to(self.device)\n",
    "        else:\n",
    "            net.apply(weights_init_normal)\n",
    "            c = torch.randn(self.args.latent_dim).to(self.device)\n",
    "        \n",
    "        optimizer = torch.optim.Adam(net.parameters(), lr=self.args.lr, weight_decay=self.args.weight_decay)\n",
    "        scheduler = torch.optim.lr_scheduler.MultiStepLR(optimizer, milestones=self.args.lr_milestones, gamma =0.1)\n",
    "        \n",
    "        net.train()\n",
    "        for epoch in range(self.args.num_epochs):\n",
    "            total_loss = 0\n",
    "            for x, _ in self.train_loader:\n",
    "                x = x.float().to(self.device)\n",
    "                \n",
    "                optimizer.zero_grad()\n",
    "                z = net(x)\n",
    "                loss = torch.mean(torch.sum((z-c) **2, dim=1))\n",
    "                loss.backward()\n",
    "                optimizer.step()\n",
    "                \n",
    "                total_loss += loss.item()\n",
    "                \n",
    "            scheduler.step()\n",
    "            print('Training Deep SVDD...Epoch:{},Loss: {:.3f}'.format(\n",
    "            epoch, total_loss/len(self.train_loader)))\n",
    "        self.net = net\n",
    "        self.c = c\n",
    "        \n",
    "        return self.net, self.c\n",
    "\n",
    "def weights_init_normal(m):\n",
    "    classname = m.__class__.__name__\n",
    "    if classname.find(\"Conv\") != -1 and classname != 'Conv' : \n",
    "        torch.nn.init.normal_(m.weight.data, 0.0, 0.02)\n",
    "    elif classname.find(\"Linear\") != -1:\n",
    "        torch.nn.init.normal_(m.weight.data, 0.0, 0.02)"
   ]
  },
  {
   "cell_type": "markdown",
   "metadata": {},
   "source": [
    "## **deep_svdd 모델링 실행**"
   ]
  },
  {
   "cell_type": "code",
   "execution_count": 30,
   "metadata": {},
   "outputs": [],
   "source": [
    "deep_SVDD = TrainerDeepSVDD(args, dataloader_train, device)\n",
    "#아키텍처를 잘짜면 성능이 좋아진다?\n",
    "#정규화를 해볼까?\n",
    "if args.pretrain:\n",
    "    deep_SVDD.pretrain()"
   ]
  },
  {
   "cell_type": "code",
   "execution_count": 31,
   "metadata": {},
   "outputs": [
    {
     "name": "stdout",
     "output_type": "stream",
     "text": [
      "Training Deep SVDD...Epoch:0,Loss: 0.388\n",
      "Training Deep SVDD...Epoch:1,Loss: 0.040\n",
      "Training Deep SVDD...Epoch:2,Loss: 0.041\n",
      "Training Deep SVDD...Epoch:3,Loss: 0.041\n",
      "Training Deep SVDD...Epoch:4,Loss: 0.043\n",
      "Training Deep SVDD...Epoch:5,Loss: 0.042\n",
      "Training Deep SVDD...Epoch:6,Loss: 0.042\n",
      "Training Deep SVDD...Epoch:7,Loss: 0.045\n",
      "Training Deep SVDD...Epoch:8,Loss: 0.044\n",
      "Training Deep SVDD...Epoch:9,Loss: 0.041\n",
      "Training Deep SVDD...Epoch:10,Loss: 0.042\n",
      "Training Deep SVDD...Epoch:11,Loss: 0.048\n",
      "Training Deep SVDD...Epoch:12,Loss: 0.043\n",
      "Training Deep SVDD...Epoch:13,Loss: 0.041\n",
      "Training Deep SVDD...Epoch:14,Loss: 0.054\n",
      "Training Deep SVDD...Epoch:15,Loss: 0.039\n",
      "Training Deep SVDD...Epoch:16,Loss: 0.039\n",
      "Training Deep SVDD...Epoch:17,Loss: 0.041\n",
      "Training Deep SVDD...Epoch:18,Loss: 0.047\n",
      "Training Deep SVDD...Epoch:19,Loss: 0.042\n"
     ]
    }
   ],
   "source": [
    "net, c =deep_SVDD.train()"
   ]
  },
  {
   "cell_type": "code",
   "execution_count": 32,
   "metadata": {},
   "outputs": [],
   "source": [
    "def eval(net, c, dataloader, device):\n",
    "    scores = []\n",
    "    labels = []\n",
    "    net.eval()\n",
    "    print(\"Testing...\")\n",
    "    with torch.no_grad():\n",
    "        for x, y in dataloader:\n",
    "            x = x.float().to(device)\n",
    "            z = net(x)\n",
    "            score = torch.sum((z-c)**2, dim=1)\n",
    "            \n",
    "            scores.append(score.detach().cpu())\n",
    "            labels.append(y.cpu())\n",
    "    labels, scores = torch.cat(labels).numpy(), torch.cat(scores).numpy()\n",
    "    print(\"ROC AUC score: {:.2f}\".format(roc_auc_score(labels, scores)*100))\n",
    "    return labels, scores"
   ]
  },
  {
   "cell_type": "code",
   "execution_count": 33,
   "metadata": {},
   "outputs": [
    {
     "name": "stdout",
     "output_type": "stream",
     "text": [
      "Testing...\n",
      "ROC AUC score: 57.05\n"
     ]
    }
   ],
   "source": [
    "labels, scores = eval(net, c, dataloader_test, device)"
   ]
  },
  {
   "cell_type": "code",
   "execution_count": 34,
   "metadata": {},
   "outputs": [
    {
     "data": {
      "text/plain": [
       "0.15663284063339233"
      ]
     },
     "execution_count": 34,
     "metadata": {},
     "output_type": "execute_result"
    }
   ],
   "source": [
    "np.quantile(scores, 0.97)"
   ]
  },
  {
   "cell_type": "markdown",
   "metadata": {},
   "source": [
    "## **결과 도출**"
   ]
  },
  {
   "cell_type": "code",
   "execution_count": 35,
   "metadata": {},
   "outputs": [],
   "source": [
    "def get_result_svdd(labels, scores, quantile_num=0.97):\n",
    "    \n",
    "    prediction=np.where(scores>np.quantile(scores, quantile_num), 1,0)\n",
    "    score = pd.DataFrame({'labels':labels, 'scores':scores, 'prediction':prediction})\n",
    "    score.sort_values('scores', ascending=False, inplace=True)\n",
    "    score=score.reset_index().drop('index', axis=1).copy()\n",
    "\n",
    "    n_group=10\n",
    "    group=['G01','G02','G03','G04','G05','G06','G07','G08','G09','G10']\n",
    "    bins=round(len(score)/n_group)\n",
    "    bins_1=len(score)-bins*(n_group-1)\n",
    "\n",
    "    group_list=[]\n",
    "    for i in range(n_group):\n",
    "        if i <n_group-1:\n",
    "            group_list.append(np.repeat(group[i], bins).tolist())\n",
    "        else:\n",
    "            group_list.append(np.repeat(group[i], bins_1).tolist())\n",
    "    \n",
    "    import itertools\n",
    "    group_list=list(itertools.chain(*group_list))\n",
    "    score['group']=pd.Series(group_list)\n",
    "\n",
    "    function_list=['count','sum','mean']\n",
    "    table=score.groupby(['group']).agg(function_list).reset_index()\n",
    "    \n",
    "    return score, table"
   ]
  },
  {
   "cell_type": "code",
   "execution_count": 36,
   "metadata": {},
   "outputs": [],
   "source": [
    "score, table = get_result_svdd(labels, scores)"
   ]
  },
  {
   "cell_type": "code",
   "execution_count": 37,
   "metadata": {},
   "outputs": [
    {
     "data": {
      "text/html": [
       "<div>\n",
       "<style scoped>\n",
       "    .dataframe tbody tr th:only-of-type {\n",
       "        vertical-align: middle;\n",
       "    }\n",
       "\n",
       "    .dataframe tbody tr th {\n",
       "        vertical-align: top;\n",
       "    }\n",
       "\n",
       "    .dataframe thead tr th {\n",
       "        text-align: left;\n",
       "    }\n",
       "</style>\n",
       "<table border=\"1\" class=\"dataframe\">\n",
       "  <thead>\n",
       "    <tr>\n",
       "      <th></th>\n",
       "      <th>group</th>\n",
       "      <th colspan=\"3\" halign=\"left\">labels</th>\n",
       "      <th colspan=\"3\" halign=\"left\">scores</th>\n",
       "      <th colspan=\"3\" halign=\"left\">prediction</th>\n",
       "    </tr>\n",
       "    <tr>\n",
       "      <th></th>\n",
       "      <th></th>\n",
       "      <th>count</th>\n",
       "      <th>sum</th>\n",
       "      <th>mean</th>\n",
       "      <th>count</th>\n",
       "      <th>sum</th>\n",
       "      <th>mean</th>\n",
       "      <th>count</th>\n",
       "      <th>sum</th>\n",
       "      <th>mean</th>\n",
       "    </tr>\n",
       "  </thead>\n",
       "  <tbody>\n",
       "    <tr>\n",
       "      <th>0</th>\n",
       "      <td>G01</td>\n",
       "      <td>1766</td>\n",
       "      <td>56.0</td>\n",
       "      <td>0.031710</td>\n",
       "      <td>1766</td>\n",
       "      <td>273.291473</td>\n",
       "      <td>0.154752</td>\n",
       "      <td>1766</td>\n",
       "      <td>530</td>\n",
       "      <td>0.300113</td>\n",
       "    </tr>\n",
       "    <tr>\n",
       "      <th>1</th>\n",
       "      <td>G02</td>\n",
       "      <td>1766</td>\n",
       "      <td>14.0</td>\n",
       "      <td>0.007928</td>\n",
       "      <td>1766</td>\n",
       "      <td>133.560303</td>\n",
       "      <td>0.075629</td>\n",
       "      <td>1766</td>\n",
       "      <td>0</td>\n",
       "      <td>0.000000</td>\n",
       "    </tr>\n",
       "    <tr>\n",
       "      <th>2</th>\n",
       "      <td>G03</td>\n",
       "      <td>1766</td>\n",
       "      <td>17.0</td>\n",
       "      <td>0.009626</td>\n",
       "      <td>1766</td>\n",
       "      <td>95.568169</td>\n",
       "      <td>0.054116</td>\n",
       "      <td>1766</td>\n",
       "      <td>0</td>\n",
       "      <td>0.000000</td>\n",
       "    </tr>\n",
       "    <tr>\n",
       "      <th>3</th>\n",
       "      <td>G04</td>\n",
       "      <td>1766</td>\n",
       "      <td>23.0</td>\n",
       "      <td>0.013024</td>\n",
       "      <td>1766</td>\n",
       "      <td>68.877243</td>\n",
       "      <td>0.039002</td>\n",
       "      <td>1766</td>\n",
       "      <td>0</td>\n",
       "      <td>0.000000</td>\n",
       "    </tr>\n",
       "    <tr>\n",
       "      <th>4</th>\n",
       "      <td>G05</td>\n",
       "      <td>1766</td>\n",
       "      <td>26.0</td>\n",
       "      <td>0.014723</td>\n",
       "      <td>1766</td>\n",
       "      <td>52.376408</td>\n",
       "      <td>0.029658</td>\n",
       "      <td>1766</td>\n",
       "      <td>0</td>\n",
       "      <td>0.000000</td>\n",
       "    </tr>\n",
       "    <tr>\n",
       "      <th>5</th>\n",
       "      <td>G06</td>\n",
       "      <td>1766</td>\n",
       "      <td>15.0</td>\n",
       "      <td>0.008494</td>\n",
       "      <td>1766</td>\n",
       "      <td>38.068901</td>\n",
       "      <td>0.021557</td>\n",
       "      <td>1766</td>\n",
       "      <td>0</td>\n",
       "      <td>0.000000</td>\n",
       "    </tr>\n",
       "    <tr>\n",
       "      <th>6</th>\n",
       "      <td>G07</td>\n",
       "      <td>1766</td>\n",
       "      <td>20.0</td>\n",
       "      <td>0.011325</td>\n",
       "      <td>1766</td>\n",
       "      <td>25.928223</td>\n",
       "      <td>0.014682</td>\n",
       "      <td>1766</td>\n",
       "      <td>0</td>\n",
       "      <td>0.000000</td>\n",
       "    </tr>\n",
       "    <tr>\n",
       "      <th>7</th>\n",
       "      <td>G08</td>\n",
       "      <td>1766</td>\n",
       "      <td>14.0</td>\n",
       "      <td>0.007928</td>\n",
       "      <td>1766</td>\n",
       "      <td>15.265416</td>\n",
       "      <td>0.008644</td>\n",
       "      <td>1766</td>\n",
       "      <td>0</td>\n",
       "      <td>0.000000</td>\n",
       "    </tr>\n",
       "    <tr>\n",
       "      <th>8</th>\n",
       "      <td>G09</td>\n",
       "      <td>1766</td>\n",
       "      <td>28.0</td>\n",
       "      <td>0.015855</td>\n",
       "      <td>1766</td>\n",
       "      <td>5.849361</td>\n",
       "      <td>0.003312</td>\n",
       "      <td>1766</td>\n",
       "      <td>0</td>\n",
       "      <td>0.000000</td>\n",
       "    </tr>\n",
       "    <tr>\n",
       "      <th>9</th>\n",
       "      <td>G10</td>\n",
       "      <td>1767</td>\n",
       "      <td>16.0</td>\n",
       "      <td>0.009055</td>\n",
       "      <td>1767</td>\n",
       "      <td>0.715600</td>\n",
       "      <td>0.000405</td>\n",
       "      <td>1767</td>\n",
       "      <td>0</td>\n",
       "      <td>0.000000</td>\n",
       "    </tr>\n",
       "  </tbody>\n",
       "</table>\n",
       "</div>"
      ],
      "text/plain": [
       "  group labels                 scores                       prediction       \\\n",
       "         count   sum      mean  count         sum      mean      count  sum   \n",
       "0   G01   1766  56.0  0.031710   1766  273.291473  0.154752       1766  530   \n",
       "1   G02   1766  14.0  0.007928   1766  133.560303  0.075629       1766    0   \n",
       "2   G03   1766  17.0  0.009626   1766   95.568169  0.054116       1766    0   \n",
       "3   G04   1766  23.0  0.013024   1766   68.877243  0.039002       1766    0   \n",
       "4   G05   1766  26.0  0.014723   1766   52.376408  0.029658       1766    0   \n",
       "5   G06   1766  15.0  0.008494   1766   38.068901  0.021557       1766    0   \n",
       "6   G07   1766  20.0  0.011325   1766   25.928223  0.014682       1766    0   \n",
       "7   G08   1766  14.0  0.007928   1766   15.265416  0.008644       1766    0   \n",
       "8   G09   1766  28.0  0.015855   1766    5.849361  0.003312       1766    0   \n",
       "9   G10   1767  16.0  0.009055   1767    0.715600  0.000405       1767    0   \n",
       "\n",
       "             \n",
       "       mean  \n",
       "0  0.300113  \n",
       "1  0.000000  \n",
       "2  0.000000  \n",
       "3  0.000000  \n",
       "4  0.000000  \n",
       "5  0.000000  \n",
       "6  0.000000  \n",
       "7  0.000000  \n",
       "8  0.000000  \n",
       "9  0.000000  "
      ]
     },
     "execution_count": 37,
     "metadata": {},
     "output_type": "execute_result"
    }
   ],
   "source": [
    "table"
   ]
  },
  {
   "cell_type": "code",
   "execution_count": 38,
   "metadata": {},
   "outputs": [],
   "source": [
    "def make_plot(score, table, quantile_num=0.987):\n",
    "    \n",
    "    plt.figure(figsize=(10,5))\n",
    "    \n",
    "    plt.subplot(1, 2, 1)\n",
    "    plt.plot(table['group'], table['labels']['mean'], 'bo--')\n",
    "    \n",
    "    y_true=score['labels']\n",
    "    y_score=score['scores']\n",
    "    test_preds=np.where(y_score>np.quantile(y_score, quantile_num), 1, 0)\n",
    "    print(f'precision score:{precision_score(y_true, test_preds)}')\n",
    "    print(f'recall score: {recall_score(y_true, test_preds)}')\n",
    "    print(f'auc acore:{roc_auc_score(y_true, y_score)}')\n",
    "    cm=confusion_matrix(y_true, test_preds)\n",
    "    \n",
    "    plt.subplot(1, 2, 2)\n",
    "    sns.heatmap(cm, annot=True, fmt=\"d\")\n",
    "    plt.title(\"Confision matrix\")\n",
    "    plt.ylabel(\"Actual label\")\n",
    "    plt.xlabel(\"Predicted label\")"
   ]
  },
  {
   "cell_type": "code",
   "execution_count": 39,
   "metadata": {},
   "outputs": [
    {
     "name": "stdout",
     "output_type": "stream",
     "text": [
      "precision score:0.10869565217391304\n",
      "recall score: 0.1091703056768559\n",
      "auc acore:0.5705395989106016\n"
     ]
    },
    {
     "data": {
      "image/png": "[encoded data removed]",
      "text/plain": [
       "<Figure size 720x360 with 3 Axes>"
      ]
     },
     "metadata": {
      "needs_background": "light"
     },
     "output_type": "display_data"
    }
   ],
   "source": [
    "make_plot(score, table)"
   ]
  },
  {
   "cell_type": "code",
   "execution_count": null,
   "metadata": {},
   "outputs": [],
   "source": []
  }
 ],
 "metadata": {
  "kernelspec": {
   "display_name": "Python 3",
   "language": "python",
   "name": "python3"
  },
  "language_info": {
   "codemirror_mode": {
    "name": "ipython",
    "version": 3
   },
   "file_extension": ".py",
   "mimetype": "text/x-python",
   "name": "python",
   "nbconvert_exporter": "python",
   "pygments_lexer": "ipython3",
   "version": "3.6.8"
  }
 },
 "nbformat": 4,
 "nbformat_minor": 4
}
