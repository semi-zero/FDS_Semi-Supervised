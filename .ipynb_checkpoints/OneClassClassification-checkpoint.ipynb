{
 "cells": [
  {
   "cell_type": "markdown",
   "metadata": {},
   "source": [
    "# **SVM Kernel 활용 One-Class Classification 방법론**"
   ]
  },
  {
   "cell_type": "markdown",
   "metadata": {},
   "source": [
    "## **라이브러리 및 데이터 불러오기** "
   ]
  },
  {
   "cell_type": "code",
   "execution_count": 8,
   "metadata": {},
   "outputs": [],
   "source": [
    "import numpy as np\n",
    "import easydict\n",
    "import pandas as pd\n",
    "\n",
    "from sklearn.metrics import roc_auc_score, recall_score, precision_score, confusion_matrix\n",
    "from sklearn.preprocessing import LabelEncoder\n",
    "import matplotlib.pyplot as plt\n",
    "import seaborn as sns\n",
    "\n",
    "from sklearn.svm import OneClassSVM\n",
    "from sklearn.ensemble import IsolationForest\n",
    "from sklearn.decomposition import PCA"
   ]
  },
  {
   "cell_type": "code",
   "execution_count": 4,
   "metadata": {},
   "outputs": [],
   "source": [
    "train=pd.read_csv('../train.csv')\n",
    "test=pd.read_csv('../test.csv')\n",
    "train=train.drop('FRST_RCV_DT', axis=1)\n",
    "test=test.drop('FRST_RCV_DT', axis=1)\n",
    "target='FDS_CATH'"
   ]
  },
  {
   "cell_type": "code",
   "execution_count": 5,
   "metadata": {},
   "outputs": [],
   "source": [
    "#fraud와 normal index 정리\n",
    "fraud_list=train[train['FDS_CATH']==1].index.tolist()\n",
    "normal_list=train[train['FDS_CATH']==0].index.tolist()"
   ]
  },
  {
   "cell_type": "code",
   "execution_count": 6,
   "metadata": {},
   "outputs": [],
   "source": [
    "nunique = train.nunique()\n",
    "types = train.dtypes\n",
    "\n",
    "for col in train.columns:\n",
    "    if types[col] == 'object' or nunique[col] <200:\n",
    "        l_enc= LabelEncoder()\n",
    "        train[col]= train[col].fillna(\"VV_likely\")\n",
    "        train[col]= l_enc.fit_transform(train[col].values)\n",
    "        test[col]=l_enc.transform(test[col].values)\n",
    "    else:\n",
    "        train.fillna(train.loc[train_indices, col].mean(), inplace=True)"
   ]
  },
  {
   "cell_type": "code",
   "execution_count": 7,
   "metadata": {},
   "outputs": [],
   "source": [
    "#scaler\n",
    "from sklearn.preprocessing import StandardScaler\n",
    "scaler=StandardScaler()\n",
    "train.iloc[:,:-1]=scaler.fit_transform(train.iloc[:,:-1])\n",
    "test.iloc[:,:-1]=scaler.transform(test.iloc[:,:-1])"
   ]
  },
  {
   "cell_type": "markdown",
   "metadata": {},
   "source": [
    "normal data를 kernel을 활용해 One-class를 만들어주어야 함"
   ]
  },
  {
   "cell_type": "code",
   "execution_count": 10,
   "metadata": {},
   "outputs": [
    {
     "name": "stdout",
     "output_type": "stream",
     "text": [
      "(115299, 21)\n",
      "(118888, 21) (118888,)\n",
      "(17661, 21) (17661,)\n"
     ]
    }
   ],
   "source": [
    "train_normal=train[train.iloc[:,-1]==0]\n",
    "train_normal_x=train_normal.iloc[:, :-1]\n",
    "########################\n",
    "train_x=train.iloc[:,:-1]\n",
    "train_y=train.iloc[:,-1]\n",
    "test_x=test.iloc[:,:-1]\n",
    "test_y=test.iloc[:,-1]\n",
    "print(train_normal_x.shape)\n",
    "print(train_x.shape, train_y.shape)\n",
    "print(test_x.shape, test_y.shape)"
   ]
  },
  {
   "cell_type": "markdown",
   "metadata": {},
   "source": [
    "## **PCA로 차원 축소**"
   ]
  },
  {
   "cell_type": "code",
   "execution_count": 11,
   "metadata": {},
   "outputs": [],
   "source": [
    "pca = PCA(n_components = 8, whiten = True)\n",
    "pca = pca.fit(train_normal_x)"
   ]
  },
  {
   "cell_type": "code",
   "execution_count": 12,
   "metadata": {},
   "outputs": [],
   "source": [
    "train_normal_x_pca = pca.transform(train_normal_x)\n",
    "train_x_pca = pca.transform(train_x)\n",
    "test_x_pca = pca.transform(test_x)"
   ]
  },
  {
   "cell_type": "code",
   "execution_count": 18,
   "metadata": {},
   "outputs": [
    {
     "data": {
      "text/plain": [
       "<matplotlib.collections.PathCollection at 0x7fb7dfaea6a0>"
      ]
     },
     "execution_count": 18,
     "metadata": {},
     "output_type": "execute_result"
    },
    {
     "data": {
      "image/png": "[encoded data removed]",
      "text/plain": [
       "<Figure size 432x288 with 1 Axes>"
      ]
     },
     "metadata": {
      "needs_background": "light"
     },
     "output_type": "display_data"
    }
   ],
   "source": [
    "import matplotlib.pyplot as plt\n",
    "plt.scatter(train_x_pca[:,0], train_x_pca[:,4])"
   ]
  },
  {
   "cell_type": "markdown",
   "metadata": {},
   "source": [
    "## **OneClassSVM과 IsolationForest를 활용해 모델링**"
   ]
  },
  {
   "cell_type": "code",
   "execution_count": 19,
   "metadata": {},
   "outputs": [],
   "source": [
    "oc_svm_clf=OneClassSVM(gamma=0.001, kernel='rbf', nu=0.08)\n",
    "if_clf=IsolationForest(contamination=0.08, max_features=1.0, max_samples=1.0, n_estimators=40)"
   ]
  },
  {
   "cell_type": "code",
   "execution_count": 20,
   "metadata": {},
   "outputs": [
    {
     "data": {
      "text/plain": [
       "IsolationForest(contamination=0.08, max_samples=1.0, n_estimators=40)"
      ]
     },
     "execution_count": 20,
     "metadata": {},
     "output_type": "execute_result"
    }
   ],
   "source": [
    "oc_svm_clf.fit(train_normal_x_pca)\n",
    "if_clf.fit(train_normal_x_pca)"
   ]
  },
  {
   "cell_type": "code",
   "execution_count": 21,
   "metadata": {},
   "outputs": [],
   "source": [
    "oc_svm_preds = oc_svm_clf.predict(train_x_pca)\n",
    "if_preds = if_clf.predict(train_x_pca)\n",
    "\n",
    "#one-class svm과 isolation forest 정상일 경우 1, 비정상일 경우 -1 도출\n",
    "oc_svm_preds=np.where(oc_svm_preds ==1, 0, 1)\n",
    "if_preds=np.where(if_preds ==1, 0, 1)"
   ]
  },
  {
   "cell_type": "code",
   "execution_count": 22,
   "metadata": {},
   "outputs": [],
   "source": [
    "results = pd.DataFrame({'train_y': train_y, 'oc_svm_preds': oc_svm_preds, 'if_preds':if_preds})"
   ]
  },
  {
   "cell_type": "code",
   "execution_count": 23,
   "metadata": {},
   "outputs": [
    {
     "name": "stdout",
     "output_type": "stream",
     "text": [
      "9903\n",
      "10029\n"
     ]
    }
   ],
   "source": [
    "print(sum(oc_svm_preds))\n",
    "print(sum(if_preds))"
   ]
  },
  {
   "cell_type": "code",
   "execution_count": 24,
   "metadata": {},
   "outputs": [
    {
     "data": {
      "text/plain": [
       "Text(0.5, 15.0, 'Predicted label')"
      ]
     },
     "execution_count": 24,
     "metadata": {},
     "output_type": "execute_result"
    },
    {
     "data": {
      "image/png": "[encoded data removed]",
      "text/plain": [
       "<Figure size 432x288 with 2 Axes>"
      ]
     },
     "metadata": {
      "needs_background": "light"
     },
     "output_type": "display_data"
    }
   ],
   "source": [
    "sns.heatmap(confusion_matrix(train_y, oc_svm_preds), annot=True, fmt=\"d\")\n",
    "plt.title(\"OCSVM Confision matrix\")\n",
    "plt.ylabel(\"Actual label\")\n",
    "plt.xlabel(\"Predicted label\")"
   ]
  },
  {
   "cell_type": "code",
   "execution_count": 25,
   "metadata": {},
   "outputs": [
    {
     "data": {
      "text/plain": [
       "Text(0.5, 15.0, 'Predicted label')"
      ]
     },
     "execution_count": 25,
     "metadata": {},
     "output_type": "execute_result"
    },
    {
     "data": {
      "image/png": "[encoded data removed]",
      "text/plain": [
       "<Figure size 432x288 with 2 Axes>"
      ]
     },
     "metadata": {
      "needs_background": "light"
     },
     "output_type": "display_data"
    }
   ],
   "source": [
    "sns.heatmap(confusion_matrix(train_y, if_preds), annot=True, fmt=\"d\")\n",
    "plt.title(\"IF Confision matrix\")\n",
    "plt.ylabel(\"Actual label\")\n",
    "plt.xlabel(\"Predicted label\")"
   ]
  },
  {
   "cell_type": "markdown",
   "metadata": {},
   "source": [
    "## **분포 비교하기**"
   ]
  },
  {
   "cell_type": "code",
   "execution_count": 26,
   "metadata": {},
   "outputs": [],
   "source": [
    "oc_scores=oc_svm_clf.score_samples(train_x_pca)\n",
    "if_scores=if_clf.score_samples(train_x_pca)"
   ]
  },
  {
   "cell_type": "code",
   "execution_count": 27,
   "metadata": {},
   "outputs": [],
   "source": [
    "oc_scores_fraud = oc_scores[fraud_list]\n",
    "oc_scores_normal = oc_scores[normal_list]"
   ]
  },
  {
   "cell_type": "code",
   "execution_count": 28,
   "metadata": {},
   "outputs": [],
   "source": [
    "if_scores_fraud=if_scores[fraud_list]\n",
    "if_scores_normal = if_scores[normal_list]"
   ]
  },
  {
   "cell_type": "code",
   "execution_count": 32,
   "metadata": {},
   "outputs": [
    {
     "data": {
      "image/png": "[encoded data removed]",
      "text/plain": [
       "<Figure size 360x360 with 1 Axes>"
      ]
     },
     "metadata": {
      "needs_background": "light"
     },
     "output_type": "display_data"
    }
   ],
   "source": [
    "fig=plt.figure(figsize=(5,5))\n",
    "plt.hist(oc_scores_fraud, 200, color='g')\n",
    "plt.xlim([8200, 9000])\n",
    "plt.show()"
   ]
  },
  {
   "cell_type": "code",
   "execution_count": 31,
   "metadata": {},
   "outputs": [
    {
     "data": {
      "image/png": "[encoded data removed]",
      "text/plain": [
       "<Figure size 360x360 with 1 Axes>"
      ]
     },
     "metadata": {
      "needs_background": "light"
     },
     "output_type": "display_data"
    }
   ],
   "source": [
    "fig=plt.figure(figsize=(5,5))\n",
    "plt.hist(oc_scores_normal, 200, color='b')\n",
    "plt.xlim([8200, 9000])\n",
    "plt.show()"
   ]
  },
  {
   "cell_type": "markdown",
   "metadata": {},
   "source": [
    "# **결과 도출**"
   ]
  },
  {
   "cell_type": "code",
   "execution_count": 33,
   "metadata": {},
   "outputs": [],
   "source": [
    "def get_result_svdd(labels, scores, quantile_num):\n",
    "    \n",
    "    prediction=np.where(scores<np.quantile(scores, quantile_num), 1,0)\n",
    "    score = pd.DataFrame({'labels':labels, 'scores':scores, 'prediction':prediction})\n",
    "    score.sort_values('scores', ascending=True, inplace=True)\n",
    "    score=score.reset_index().drop('index', axis=1).copy()\n",
    "\n",
    "    n_group=10\n",
    "    group=['G01','G02','G03','G04','G05','G06','G07','G08','G09','G10']\n",
    "    bins=round(len(score)/n_group)\n",
    "    bins_1=len(score)-bins*(n_group-1)\n",
    "\n",
    "    group_list=[]\n",
    "    for i in range(n_group):\n",
    "        if i <n_group-1:\n",
    "            group_list.append(np.repeat(group[i], bins).tolist())\n",
    "        else:\n",
    "            group_list.append(np.repeat(group[i], bins_1).tolist())\n",
    "    \n",
    "    import itertools\n",
    "    group_list=list(itertools.chain(*group_list))\n",
    "    score['group']=pd.Series(group_list)\n",
    "\n",
    "    function_list=['count','sum','mean']\n",
    "    table=score.groupby(['group']).agg(function_list).reset_index()\n",
    "    \n",
    "    return score, table"
   ]
  },
  {
   "cell_type": "code",
   "execution_count": 34,
   "metadata": {},
   "outputs": [],
   "source": [
    "def make_plot(score, table, quantile_num):\n",
    "    \n",
    "    plt.figure(figsize=(10,5))\n",
    "    \n",
    "    plt.subplot(1, 2, 1)\n",
    "    plt.plot(table['group'], table['labels']['mean'], 'bo--')\n",
    "    \n",
    "    y_true=score['labels']\n",
    "    y_score=score['scores']\n",
    "    test_preds=np.where(y_score<np.quantile(y_score, quantile_num), 1, 0)\n",
    "    print(f'precision score:{precision_score(y_true, test_preds)}')\n",
    "    print(f'recall score: {recall_score(y_true, test_preds)}')\n",
    "    print(f'auc acore:{roc_auc_score(y_true, y_score)}')\n",
    "    cm=confusion_matrix(y_true, test_preds)\n",
    "    \n",
    "    plt.subplot(1, 2, 2)\n",
    "    sns.heatmap(cm, annot=True, fmt=\"d\")\n",
    "    plt.title(\"Confision matrix\")\n",
    "    plt.ylabel(\"Actual label\")\n",
    "    plt.xlabel(\"Predicted label\")"
   ]
  },
  {
   "cell_type": "code",
   "execution_count": 35,
   "metadata": {},
   "outputs": [],
   "source": [
    "num=0.03"
   ]
  },
  {
   "cell_type": "code",
   "execution_count": 36,
   "metadata": {},
   "outputs": [
    {
     "name": "stdout",
     "output_type": "stream",
     "text": [
      "precision score:0.14410357444413172\n",
      "recall score: 0.14265812203956535\n",
      "auc acore:0.4498254240357314\n"
     ]
    },
    {
     "data": {
      "image/png": "[encoded data removed]",
      "text/plain": [
       "<Figure size 720x360 with 3 Axes>"
      ]
     },
     "metadata": {
      "needs_background": "light"
     },
     "output_type": "display_data"
    }
   ],
   "source": [
    "oc_score, oc_table = get_result_svdd(train_y, oc_scores, quantile_num=num)\n",
    "make_plot(oc_score, oc_table, quantile_num=num)"
   ]
  },
  {
   "cell_type": "code",
   "execution_count": 37,
   "metadata": {},
   "outputs": [
    {
     "data": {
      "text/html": [
       "<div>\n",
       "<style scoped>\n",
       "    .dataframe tbody tr th:only-of-type {\n",
       "        vertical-align: middle;\n",
       "    }\n",
       "\n",
       "    .dataframe tbody tr th {\n",
       "        vertical-align: top;\n",
       "    }\n",
       "\n",
       "    .dataframe thead tr th {\n",
       "        text-align: left;\n",
       "    }\n",
       "</style>\n",
       "<table border=\"1\" class=\"dataframe\">\n",
       "  <thead>\n",
       "    <tr>\n",
       "      <th></th>\n",
       "      <th>group</th>\n",
       "      <th colspan=\"3\" halign=\"left\">labels</th>\n",
       "      <th colspan=\"3\" halign=\"left\">scores</th>\n",
       "      <th colspan=\"3\" halign=\"left\">prediction</th>\n",
       "    </tr>\n",
       "    <tr>\n",
       "      <th></th>\n",
       "      <th></th>\n",
       "      <th>count</th>\n",
       "      <th>sum</th>\n",
       "      <th>mean</th>\n",
       "      <th>count</th>\n",
       "      <th>sum</th>\n",
       "      <th>mean</th>\n",
       "      <th>count</th>\n",
       "      <th>sum</th>\n",
       "      <th>mean</th>\n",
       "    </tr>\n",
       "  </thead>\n",
       "  <tbody>\n",
       "    <tr>\n",
       "      <th>0</th>\n",
       "      <td>G01</td>\n",
       "      <td>11889</td>\n",
       "      <td>812</td>\n",
       "      <td>0.068298</td>\n",
       "      <td>11889</td>\n",
       "      <td>1.045538e+08</td>\n",
       "      <td>8794.165389</td>\n",
       "      <td>11889</td>\n",
       "      <td>3553</td>\n",
       "      <td>0.298848</td>\n",
       "    </tr>\n",
       "    <tr>\n",
       "      <th>1</th>\n",
       "      <td>G02</td>\n",
       "      <td>11889</td>\n",
       "      <td>303</td>\n",
       "      <td>0.025486</td>\n",
       "      <td>11889</td>\n",
       "      <td>1.056676e+08</td>\n",
       "      <td>8887.846813</td>\n",
       "      <td>11889</td>\n",
       "      <td>0</td>\n",
       "      <td>0.000000</td>\n",
       "    </tr>\n",
       "    <tr>\n",
       "      <th>2</th>\n",
       "      <td>G03</td>\n",
       "      <td>11889</td>\n",
       "      <td>214</td>\n",
       "      <td>0.018000</td>\n",
       "      <td>11889</td>\n",
       "      <td>1.058114e+08</td>\n",
       "      <td>8899.945282</td>\n",
       "      <td>11889</td>\n",
       "      <td>0</td>\n",
       "      <td>0.000000</td>\n",
       "    </tr>\n",
       "    <tr>\n",
       "      <th>3</th>\n",
       "      <td>G04</td>\n",
       "      <td>11889</td>\n",
       "      <td>307</td>\n",
       "      <td>0.025822</td>\n",
       "      <td>11889</td>\n",
       "      <td>1.058933e+08</td>\n",
       "      <td>8906.832923</td>\n",
       "      <td>11889</td>\n",
       "      <td>0</td>\n",
       "      <td>0.000000</td>\n",
       "    </tr>\n",
       "    <tr>\n",
       "      <th>4</th>\n",
       "      <td>G05</td>\n",
       "      <td>11889</td>\n",
       "      <td>273</td>\n",
       "      <td>0.022962</td>\n",
       "      <td>11889</td>\n",
       "      <td>1.059636e+08</td>\n",
       "      <td>8912.746954</td>\n",
       "      <td>11889</td>\n",
       "      <td>0</td>\n",
       "      <td>0.000000</td>\n",
       "    </tr>\n",
       "    <tr>\n",
       "      <th>5</th>\n",
       "      <td>G06</td>\n",
       "      <td>11889</td>\n",
       "      <td>315</td>\n",
       "      <td>0.026495</td>\n",
       "      <td>11889</td>\n",
       "      <td>1.060259e+08</td>\n",
       "      <td>8917.982602</td>\n",
       "      <td>11889</td>\n",
       "      <td>0</td>\n",
       "      <td>0.000000</td>\n",
       "    </tr>\n",
       "    <tr>\n",
       "      <th>6</th>\n",
       "      <td>G07</td>\n",
       "      <td>11889</td>\n",
       "      <td>362</td>\n",
       "      <td>0.030448</td>\n",
       "      <td>11889</td>\n",
       "      <td>1.060859e+08</td>\n",
       "      <td>8923.028984</td>\n",
       "      <td>11889</td>\n",
       "      <td>0</td>\n",
       "      <td>0.000000</td>\n",
       "    </tr>\n",
       "    <tr>\n",
       "      <th>7</th>\n",
       "      <td>G08</td>\n",
       "      <td>11889</td>\n",
       "      <td>293</td>\n",
       "      <td>0.024645</td>\n",
       "      <td>11889</td>\n",
       "      <td>1.061515e+08</td>\n",
       "      <td>8928.547310</td>\n",
       "      <td>11889</td>\n",
       "      <td>0</td>\n",
       "      <td>0.000000</td>\n",
       "    </tr>\n",
       "    <tr>\n",
       "      <th>8</th>\n",
       "      <td>G09</td>\n",
       "      <td>11889</td>\n",
       "      <td>361</td>\n",
       "      <td>0.030364</td>\n",
       "      <td>11889</td>\n",
       "      <td>1.062348e+08</td>\n",
       "      <td>8935.555637</td>\n",
       "      <td>11889</td>\n",
       "      <td>0</td>\n",
       "      <td>0.000000</td>\n",
       "    </tr>\n",
       "    <tr>\n",
       "      <th>9</th>\n",
       "      <td>G10</td>\n",
       "      <td>11887</td>\n",
       "      <td>349</td>\n",
       "      <td>0.029360</td>\n",
       "      <td>11887</td>\n",
       "      <td>1.063828e+08</td>\n",
       "      <td>8949.504590</td>\n",
       "      <td>11887</td>\n",
       "      <td>0</td>\n",
       "      <td>0.000000</td>\n",
       "    </tr>\n",
       "  </tbody>\n",
       "</table>\n",
       "</div>"
      ],
      "text/plain": [
       "  group labels                scores                            prediction  \\\n",
       "         count  sum      mean  count           sum         mean      count   \n",
       "0   G01  11889  812  0.068298  11889  1.045538e+08  8794.165389      11889   \n",
       "1   G02  11889  303  0.025486  11889  1.056676e+08  8887.846813      11889   \n",
       "2   G03  11889  214  0.018000  11889  1.058114e+08  8899.945282      11889   \n",
       "3   G04  11889  307  0.025822  11889  1.058933e+08  8906.832923      11889   \n",
       "4   G05  11889  273  0.022962  11889  1.059636e+08  8912.746954      11889   \n",
       "5   G06  11889  315  0.026495  11889  1.060259e+08  8917.982602      11889   \n",
       "6   G07  11889  362  0.030448  11889  1.060859e+08  8923.028984      11889   \n",
       "7   G08  11889  293  0.024645  11889  1.061515e+08  8928.547310      11889   \n",
       "8   G09  11889  361  0.030364  11889  1.062348e+08  8935.555637      11889   \n",
       "9   G10  11887  349  0.029360  11887  1.063828e+08  8949.504590      11887   \n",
       "\n",
       "                   \n",
       "    sum      mean  \n",
       "0  3553  0.298848  \n",
       "1     0  0.000000  \n",
       "2     0  0.000000  \n",
       "3     0  0.000000  \n",
       "4     0  0.000000  \n",
       "5     0  0.000000  \n",
       "6     0  0.000000  \n",
       "7     0  0.000000  \n",
       "8     0  0.000000  \n",
       "9     0  0.000000  "
      ]
     },
     "execution_count": 37,
     "metadata": {},
     "output_type": "execute_result"
    }
   ],
   "source": [
    "oc_table"
   ]
  },
  {
   "cell_type": "code",
   "execution_count": 38,
   "metadata": {},
   "outputs": [
    {
     "name": "stdout",
     "output_type": "stream",
     "text": [
      "precision score:0.127838519764508\n",
      "recall score: 0.1270548899414879\n",
      "auc acore:0.4083362445256662\n"
     ]
    },
    {
     "data": {
      "image/png": "[encoded data removed]",
      "text/plain": [
       "<Figure size 720x360 with 3 Axes>"
      ]
     },
     "metadata": {
      "needs_background": "light"
     },
     "output_type": "display_data"
    }
   ],
   "source": [
    "if_score, if_table = get_result_svdd(train_y, if_scores, quantile_num=num)\n",
    "make_plot(if_score, if_table, quantile_num=num)"
   ]
  },
  {
   "cell_type": "code",
   "execution_count": 39,
   "metadata": {},
   "outputs": [
    {
     "data": {
      "text/html": [
       "<div>\n",
       "<style scoped>\n",
       "    .dataframe tbody tr th:only-of-type {\n",
       "        vertical-align: middle;\n",
       "    }\n",
       "\n",
       "    .dataframe tbody tr th {\n",
       "        vertical-align: top;\n",
       "    }\n",
       "\n",
       "    .dataframe thead tr th {\n",
       "        text-align: left;\n",
       "    }\n",
       "</style>\n",
       "<table border=\"1\" class=\"dataframe\">\n",
       "  <thead>\n",
       "    <tr>\n",
       "      <th></th>\n",
       "      <th>group</th>\n",
       "      <th colspan=\"3\" halign=\"left\">labels</th>\n",
       "      <th colspan=\"3\" halign=\"left\">scores</th>\n",
       "      <th colspan=\"3\" halign=\"left\">prediction</th>\n",
       "    </tr>\n",
       "    <tr>\n",
       "      <th></th>\n",
       "      <th></th>\n",
       "      <th>count</th>\n",
       "      <th>sum</th>\n",
       "      <th>mean</th>\n",
       "      <th>count</th>\n",
       "      <th>sum</th>\n",
       "      <th>mean</th>\n",
       "      <th>count</th>\n",
       "      <th>sum</th>\n",
       "      <th>mean</th>\n",
       "    </tr>\n",
       "  </thead>\n",
       "  <tbody>\n",
       "    <tr>\n",
       "      <th>0</th>\n",
       "      <td>G01</td>\n",
       "      <td>11889</td>\n",
       "      <td>879</td>\n",
       "      <td>0.073934</td>\n",
       "      <td>11889</td>\n",
       "      <td>-5674.912799</td>\n",
       "      <td>-0.477325</td>\n",
       "      <td>11889</td>\n",
       "      <td>3567</td>\n",
       "      <td>0.300025</td>\n",
       "    </tr>\n",
       "    <tr>\n",
       "      <th>1</th>\n",
       "      <td>G02</td>\n",
       "      <td>11889</td>\n",
       "      <td>380</td>\n",
       "      <td>0.031962</td>\n",
       "      <td>11889</td>\n",
       "      <td>-5067.452144</td>\n",
       "      <td>-0.426230</td>\n",
       "      <td>11889</td>\n",
       "      <td>0</td>\n",
       "      <td>0.000000</td>\n",
       "    </tr>\n",
       "    <tr>\n",
       "      <th>2</th>\n",
       "      <td>G03</td>\n",
       "      <td>11889</td>\n",
       "      <td>284</td>\n",
       "      <td>0.023888</td>\n",
       "      <td>11889</td>\n",
       "      <td>-4845.816333</td>\n",
       "      <td>-0.407588</td>\n",
       "      <td>11889</td>\n",
       "      <td>0</td>\n",
       "      <td>0.000000</td>\n",
       "    </tr>\n",
       "    <tr>\n",
       "      <th>3</th>\n",
       "      <td>G04</td>\n",
       "      <td>11889</td>\n",
       "      <td>333</td>\n",
       "      <td>0.028009</td>\n",
       "      <td>11889</td>\n",
       "      <td>-4680.880358</td>\n",
       "      <td>-0.393715</td>\n",
       "      <td>11889</td>\n",
       "      <td>0</td>\n",
       "      <td>0.000000</td>\n",
       "    </tr>\n",
       "    <tr>\n",
       "      <th>4</th>\n",
       "      <td>G05</td>\n",
       "      <td>11889</td>\n",
       "      <td>304</td>\n",
       "      <td>0.025570</td>\n",
       "      <td>11889</td>\n",
       "      <td>-4570.044872</td>\n",
       "      <td>-0.384393</td>\n",
       "      <td>11889</td>\n",
       "      <td>0</td>\n",
       "      <td>0.000000</td>\n",
       "    </tr>\n",
       "    <tr>\n",
       "      <th>5</th>\n",
       "      <td>G06</td>\n",
       "      <td>11889</td>\n",
       "      <td>261</td>\n",
       "      <td>0.021953</td>\n",
       "      <td>11889</td>\n",
       "      <td>-4489.278613</td>\n",
       "      <td>-0.377599</td>\n",
       "      <td>11889</td>\n",
       "      <td>0</td>\n",
       "      <td>0.000000</td>\n",
       "    </tr>\n",
       "    <tr>\n",
       "      <th>6</th>\n",
       "      <td>G07</td>\n",
       "      <td>11889</td>\n",
       "      <td>292</td>\n",
       "      <td>0.024561</td>\n",
       "      <td>11889</td>\n",
       "      <td>-4418.960748</td>\n",
       "      <td>-0.371685</td>\n",
       "      <td>11889</td>\n",
       "      <td>0</td>\n",
       "      <td>0.000000</td>\n",
       "    </tr>\n",
       "    <tr>\n",
       "      <th>7</th>\n",
       "      <td>G08</td>\n",
       "      <td>11889</td>\n",
       "      <td>273</td>\n",
       "      <td>0.022962</td>\n",
       "      <td>11889</td>\n",
       "      <td>-4355.942144</td>\n",
       "      <td>-0.366384</td>\n",
       "      <td>11889</td>\n",
       "      <td>0</td>\n",
       "      <td>0.000000</td>\n",
       "    </tr>\n",
       "    <tr>\n",
       "      <th>8</th>\n",
       "      <td>G09</td>\n",
       "      <td>11889</td>\n",
       "      <td>309</td>\n",
       "      <td>0.025990</td>\n",
       "      <td>11889</td>\n",
       "      <td>-4290.966354</td>\n",
       "      <td>-0.360919</td>\n",
       "      <td>11889</td>\n",
       "      <td>0</td>\n",
       "      <td>0.000000</td>\n",
       "    </tr>\n",
       "    <tr>\n",
       "      <th>9</th>\n",
       "      <td>G10</td>\n",
       "      <td>11887</td>\n",
       "      <td>274</td>\n",
       "      <td>0.023050</td>\n",
       "      <td>11887</td>\n",
       "      <td>-4201.120605</td>\n",
       "      <td>-0.353421</td>\n",
       "      <td>11887</td>\n",
       "      <td>0</td>\n",
       "      <td>0.000000</td>\n",
       "    </tr>\n",
       "  </tbody>\n",
       "</table>\n",
       "</div>"
      ],
      "text/plain": [
       "  group labels                scores                        prediction        \\\n",
       "         count  sum      mean  count          sum      mean      count   sum   \n",
       "0   G01  11889  879  0.073934  11889 -5674.912799 -0.477325      11889  3567   \n",
       "1   G02  11889  380  0.031962  11889 -5067.452144 -0.426230      11889     0   \n",
       "2   G03  11889  284  0.023888  11889 -4845.816333 -0.407588      11889     0   \n",
       "3   G04  11889  333  0.028009  11889 -4680.880358 -0.393715      11889     0   \n",
       "4   G05  11889  304  0.025570  11889 -4570.044872 -0.384393      11889     0   \n",
       "5   G06  11889  261  0.021953  11889 -4489.278613 -0.377599      11889     0   \n",
       "6   G07  11889  292  0.024561  11889 -4418.960748 -0.371685      11889     0   \n",
       "7   G08  11889  273  0.022962  11889 -4355.942144 -0.366384      11889     0   \n",
       "8   G09  11889  309  0.025990  11889 -4290.966354 -0.360919      11889     0   \n",
       "9   G10  11887  274  0.023050  11887 -4201.120605 -0.353421      11887     0   \n",
       "\n",
       "             \n",
       "       mean  \n",
       "0  0.300025  \n",
       "1  0.000000  \n",
       "2  0.000000  \n",
       "3  0.000000  \n",
       "4  0.000000  \n",
       "5  0.000000  \n",
       "6  0.000000  \n",
       "7  0.000000  \n",
       "8  0.000000  \n",
       "9  0.000000  "
      ]
     },
     "execution_count": 39,
     "metadata": {},
     "output_type": "execute_result"
    }
   ],
   "source": [
    "if_table"
   ]
  },
  {
   "cell_type": "code",
   "execution_count": 40,
   "metadata": {},
   "outputs": [],
   "source": [
    "oc_test_scores=oc_svm_clf.score_samples(test_x_pca)\n",
    "if_test_scores=if_clf.score_samples(test_x_pca)"
   ]
  },
  {
   "cell_type": "code",
   "execution_count": 44,
   "metadata": {},
   "outputs": [
    {
     "name": "stdout",
     "output_type": "stream",
     "text": [
      "precision score:0.06568516421291053\n",
      "recall score: 0.25327510917030566\n",
      "auc acore:0.3996815573827984\n"
     ]
    },
    {
     "data": {
      "image/png": "[encoded data removed]",
      "text/plain": [
       "<Figure size 720x360 with 3 Axes>"
      ]
     },
     "metadata": {
      "needs_background": "light"
     },
     "output_type": "display_data"
    }
   ],
   "source": [
    "oc_test_score, oc_test_table = get_result_svdd(test_y, oc_test_scores, quantile_num=num)\n",
    "make_plot(oc_test_score, oc_test_table, quantile_num=num)"
   ]
  },
  {
   "cell_type": "code",
   "execution_count": 42,
   "metadata": {},
   "outputs": [
    {
     "data": {
      "text/html": [
       "<div>\n",
       "<style scoped>\n",
       "    .dataframe tbody tr th:only-of-type {\n",
       "        vertical-align: middle;\n",
       "    }\n",
       "\n",
       "    .dataframe tbody tr th {\n",
       "        vertical-align: top;\n",
       "    }\n",
       "\n",
       "    .dataframe thead tr th {\n",
       "        text-align: left;\n",
       "    }\n",
       "</style>\n",
       "<table border=\"1\" class=\"dataframe\">\n",
       "  <thead>\n",
       "    <tr>\n",
       "      <th></th>\n",
       "      <th>group</th>\n",
       "      <th colspan=\"3\" halign=\"left\">labels</th>\n",
       "      <th colspan=\"3\" halign=\"left\">scores</th>\n",
       "      <th colspan=\"3\" halign=\"left\">prediction</th>\n",
       "    </tr>\n",
       "    <tr>\n",
       "      <th></th>\n",
       "      <th></th>\n",
       "      <th>count</th>\n",
       "      <th>sum</th>\n",
       "      <th>mean</th>\n",
       "      <th>count</th>\n",
       "      <th>sum</th>\n",
       "      <th>mean</th>\n",
       "      <th>count</th>\n",
       "      <th>sum</th>\n",
       "      <th>mean</th>\n",
       "    </tr>\n",
       "  </thead>\n",
       "  <tbody>\n",
       "    <tr>\n",
       "      <th>0</th>\n",
       "      <td>G01</td>\n",
       "      <td>1766</td>\n",
       "      <td>73</td>\n",
       "      <td>0.041336</td>\n",
       "      <td>1766</td>\n",
       "      <td>1.551613e+07</td>\n",
       "      <td>8786.030440</td>\n",
       "      <td>1766</td>\n",
       "      <td>705</td>\n",
       "      <td>0.399207</td>\n",
       "    </tr>\n",
       "    <tr>\n",
       "      <th>1</th>\n",
       "      <td>G02</td>\n",
       "      <td>1766</td>\n",
       "      <td>15</td>\n",
       "      <td>0.008494</td>\n",
       "      <td>1766</td>\n",
       "      <td>1.569711e+07</td>\n",
       "      <td>8888.510161</td>\n",
       "      <td>1766</td>\n",
       "      <td>0</td>\n",
       "      <td>0.000000</td>\n",
       "    </tr>\n",
       "    <tr>\n",
       "      <th>2</th>\n",
       "      <td>G03</td>\n",
       "      <td>1766</td>\n",
       "      <td>7</td>\n",
       "      <td>0.003964</td>\n",
       "      <td>1766</td>\n",
       "      <td>1.571799e+07</td>\n",
       "      <td>8900.333830</td>\n",
       "      <td>1766</td>\n",
       "      <td>0</td>\n",
       "      <td>0.000000</td>\n",
       "    </tr>\n",
       "    <tr>\n",
       "      <th>3</th>\n",
       "      <td>G04</td>\n",
       "      <td>1766</td>\n",
       "      <td>19</td>\n",
       "      <td>0.010759</td>\n",
       "      <td>1766</td>\n",
       "      <td>1.573034e+07</td>\n",
       "      <td>8907.326872</td>\n",
       "      <td>1766</td>\n",
       "      <td>0</td>\n",
       "      <td>0.000000</td>\n",
       "    </tr>\n",
       "    <tr>\n",
       "      <th>4</th>\n",
       "      <td>G05</td>\n",
       "      <td>1766</td>\n",
       "      <td>23</td>\n",
       "      <td>0.013024</td>\n",
       "      <td>1766</td>\n",
       "      <td>1.574083e+07</td>\n",
       "      <td>8913.266033</td>\n",
       "      <td>1766</td>\n",
       "      <td>0</td>\n",
       "      <td>0.000000</td>\n",
       "    </tr>\n",
       "    <tr>\n",
       "      <th>5</th>\n",
       "      <td>G06</td>\n",
       "      <td>1766</td>\n",
       "      <td>22</td>\n",
       "      <td>0.012458</td>\n",
       "      <td>1766</td>\n",
       "      <td>1.575009e+07</td>\n",
       "      <td>8918.508277</td>\n",
       "      <td>1766</td>\n",
       "      <td>0</td>\n",
       "      <td>0.000000</td>\n",
       "    </tr>\n",
       "    <tr>\n",
       "      <th>6</th>\n",
       "      <td>G07</td>\n",
       "      <td>1766</td>\n",
       "      <td>16</td>\n",
       "      <td>0.009060</td>\n",
       "      <td>1766</td>\n",
       "      <td>1.575967e+07</td>\n",
       "      <td>8923.932858</td>\n",
       "      <td>1766</td>\n",
       "      <td>0</td>\n",
       "      <td>0.000000</td>\n",
       "    </tr>\n",
       "    <tr>\n",
       "      <th>7</th>\n",
       "      <td>G08</td>\n",
       "      <td>1766</td>\n",
       "      <td>13</td>\n",
       "      <td>0.007361</td>\n",
       "      <td>1766</td>\n",
       "      <td>1.576925e+07</td>\n",
       "      <td>8929.357583</td>\n",
       "      <td>1766</td>\n",
       "      <td>0</td>\n",
       "      <td>0.000000</td>\n",
       "    </tr>\n",
       "    <tr>\n",
       "      <th>8</th>\n",
       "      <td>G09</td>\n",
       "      <td>1766</td>\n",
       "      <td>21</td>\n",
       "      <td>0.011891</td>\n",
       "      <td>1766</td>\n",
       "      <td>1.578174e+07</td>\n",
       "      <td>8936.432968</td>\n",
       "      <td>1766</td>\n",
       "      <td>0</td>\n",
       "      <td>0.000000</td>\n",
       "    </tr>\n",
       "    <tr>\n",
       "      <th>9</th>\n",
       "      <td>G10</td>\n",
       "      <td>1767</td>\n",
       "      <td>20</td>\n",
       "      <td>0.011319</td>\n",
       "      <td>1767</td>\n",
       "      <td>1.581748e+07</td>\n",
       "      <td>8951.601042</td>\n",
       "      <td>1767</td>\n",
       "      <td>0</td>\n",
       "      <td>0.000000</td>\n",
       "    </tr>\n",
       "  </tbody>\n",
       "</table>\n",
       "</div>"
      ],
      "text/plain": [
       "  group labels               scores                            prediction  \\\n",
       "         count sum      mean  count           sum         mean      count   \n",
       "0   G01   1766  73  0.041336   1766  1.551613e+07  8786.030440       1766   \n",
       "1   G02   1766  15  0.008494   1766  1.569711e+07  8888.510161       1766   \n",
       "2   G03   1766   7  0.003964   1766  1.571799e+07  8900.333830       1766   \n",
       "3   G04   1766  19  0.010759   1766  1.573034e+07  8907.326872       1766   \n",
       "4   G05   1766  23  0.013024   1766  1.574083e+07  8913.266033       1766   \n",
       "5   G06   1766  22  0.012458   1766  1.575009e+07  8918.508277       1766   \n",
       "6   G07   1766  16  0.009060   1766  1.575967e+07  8923.932858       1766   \n",
       "7   G08   1766  13  0.007361   1766  1.576925e+07  8929.357583       1766   \n",
       "8   G09   1766  21  0.011891   1766  1.578174e+07  8936.432968       1766   \n",
       "9   G10   1767  20  0.011319   1767  1.581748e+07  8951.601042       1767   \n",
       "\n",
       "                  \n",
       "   sum      mean  \n",
       "0  705  0.399207  \n",
       "1    0  0.000000  \n",
       "2    0  0.000000  \n",
       "3    0  0.000000  \n",
       "4    0  0.000000  \n",
       "5    0  0.000000  \n",
       "6    0  0.000000  \n",
       "7    0  0.000000  \n",
       "8    0  0.000000  \n",
       "9    0  0.000000  "
      ]
     },
     "execution_count": 42,
     "metadata": {},
     "output_type": "execute_result"
    }
   ],
   "source": [
    "oc_test_table"
   ]
  },
  {
   "cell_type": "code",
   "execution_count": 45,
   "metadata": {},
   "outputs": [
    {
     "name": "stdout",
     "output_type": "stream",
     "text": [
      "precision score:0.05436013590033975\n",
      "recall score: 0.2096069868995633\n",
      "auc acore:0.3602352046429695\n"
     ]
    },
    {
     "data": {
      "image/png": "[encoded data removed]",
      "text/plain": [
       "<Figure size 720x360 with 3 Axes>"
      ]
     },
     "metadata": {
      "needs_background": "light"
     },
     "output_type": "display_data"
    }
   ],
   "source": [
    "if_test_score, if_test_table = get_result_svdd(test_y, if_test_scores, quantile_num=num)\n",
    "make_plot(if_test_score, if_test_table, quantile_num=num)"
   ]
  },
  {
   "cell_type": "code",
   "execution_count": 46,
   "metadata": {},
   "outputs": [
    {
     "data": {
      "text/html": [
       "<div>\n",
       "<style scoped>\n",
       "    .dataframe tbody tr th:only-of-type {\n",
       "        vertical-align: middle;\n",
       "    }\n",
       "\n",
       "    .dataframe tbody tr th {\n",
       "        vertical-align: top;\n",
       "    }\n",
       "\n",
       "    .dataframe thead tr th {\n",
       "        text-align: left;\n",
       "    }\n",
       "</style>\n",
       "<table border=\"1\" class=\"dataframe\">\n",
       "  <thead>\n",
       "    <tr>\n",
       "      <th></th>\n",
       "      <th>group</th>\n",
       "      <th colspan=\"3\" halign=\"left\">labels</th>\n",
       "      <th colspan=\"3\" halign=\"left\">scores</th>\n",
       "      <th colspan=\"3\" halign=\"left\">prediction</th>\n",
       "    </tr>\n",
       "    <tr>\n",
       "      <th></th>\n",
       "      <th></th>\n",
       "      <th>count</th>\n",
       "      <th>sum</th>\n",
       "      <th>mean</th>\n",
       "      <th>count</th>\n",
       "      <th>sum</th>\n",
       "      <th>mean</th>\n",
       "      <th>count</th>\n",
       "      <th>sum</th>\n",
       "      <th>mean</th>\n",
       "    </tr>\n",
       "  </thead>\n",
       "  <tbody>\n",
       "    <tr>\n",
       "      <th>0</th>\n",
       "      <td>G01</td>\n",
       "      <td>1766</td>\n",
       "      <td>72</td>\n",
       "      <td>0.040770</td>\n",
       "      <td>1766</td>\n",
       "      <td>-845.815901</td>\n",
       "      <td>-0.478944</td>\n",
       "      <td>1766</td>\n",
       "      <td>883</td>\n",
       "      <td>0.5</td>\n",
       "    </tr>\n",
       "    <tr>\n",
       "      <th>1</th>\n",
       "      <td>G02</td>\n",
       "      <td>1766</td>\n",
       "      <td>24</td>\n",
       "      <td>0.013590</td>\n",
       "      <td>1766</td>\n",
       "      <td>-755.720049</td>\n",
       "      <td>-0.427928</td>\n",
       "      <td>1766</td>\n",
       "      <td>0</td>\n",
       "      <td>0.0</td>\n",
       "    </tr>\n",
       "    <tr>\n",
       "      <th>2</th>\n",
       "      <td>G03</td>\n",
       "      <td>1766</td>\n",
       "      <td>14</td>\n",
       "      <td>0.007928</td>\n",
       "      <td>1766</td>\n",
       "      <td>-722.332102</td>\n",
       "      <td>-0.409022</td>\n",
       "      <td>1766</td>\n",
       "      <td>0</td>\n",
       "      <td>0.0</td>\n",
       "    </tr>\n",
       "    <tr>\n",
       "      <th>3</th>\n",
       "      <td>G04</td>\n",
       "      <td>1766</td>\n",
       "      <td>23</td>\n",
       "      <td>0.013024</td>\n",
       "      <td>1766</td>\n",
       "      <td>-697.421928</td>\n",
       "      <td>-0.394916</td>\n",
       "      <td>1766</td>\n",
       "      <td>0</td>\n",
       "      <td>0.0</td>\n",
       "    </tr>\n",
       "    <tr>\n",
       "      <th>4</th>\n",
       "      <td>G05</td>\n",
       "      <td>1766</td>\n",
       "      <td>20</td>\n",
       "      <td>0.011325</td>\n",
       "      <td>1766</td>\n",
       "      <td>-680.175216</td>\n",
       "      <td>-0.385150</td>\n",
       "      <td>1766</td>\n",
       "      <td>0</td>\n",
       "      <td>0.0</td>\n",
       "    </tr>\n",
       "    <tr>\n",
       "      <th>5</th>\n",
       "      <td>G06</td>\n",
       "      <td>1766</td>\n",
       "      <td>17</td>\n",
       "      <td>0.009626</td>\n",
       "      <td>1766</td>\n",
       "      <td>-667.662054</td>\n",
       "      <td>-0.378065</td>\n",
       "      <td>1766</td>\n",
       "      <td>0</td>\n",
       "      <td>0.0</td>\n",
       "    </tr>\n",
       "    <tr>\n",
       "      <th>6</th>\n",
       "      <td>G07</td>\n",
       "      <td>1766</td>\n",
       "      <td>13</td>\n",
       "      <td>0.007361</td>\n",
       "      <td>1766</td>\n",
       "      <td>-657.326846</td>\n",
       "      <td>-0.372212</td>\n",
       "      <td>1766</td>\n",
       "      <td>0</td>\n",
       "      <td>0.0</td>\n",
       "    </tr>\n",
       "    <tr>\n",
       "      <th>7</th>\n",
       "      <td>G08</td>\n",
       "      <td>1766</td>\n",
       "      <td>15</td>\n",
       "      <td>0.008494</td>\n",
       "      <td>1766</td>\n",
       "      <td>-648.389831</td>\n",
       "      <td>-0.367152</td>\n",
       "      <td>1766</td>\n",
       "      <td>0</td>\n",
       "      <td>0.0</td>\n",
       "    </tr>\n",
       "    <tr>\n",
       "      <th>8</th>\n",
       "      <td>G09</td>\n",
       "      <td>1766</td>\n",
       "      <td>17</td>\n",
       "      <td>0.009626</td>\n",
       "      <td>1766</td>\n",
       "      <td>-638.780004</td>\n",
       "      <td>-0.361710</td>\n",
       "      <td>1766</td>\n",
       "      <td>0</td>\n",
       "      <td>0.0</td>\n",
       "    </tr>\n",
       "    <tr>\n",
       "      <th>9</th>\n",
       "      <td>G10</td>\n",
       "      <td>1767</td>\n",
       "      <td>14</td>\n",
       "      <td>0.007923</td>\n",
       "      <td>1767</td>\n",
       "      <td>-626.228737</td>\n",
       "      <td>-0.354402</td>\n",
       "      <td>1767</td>\n",
       "      <td>0</td>\n",
       "      <td>0.0</td>\n",
       "    </tr>\n",
       "  </tbody>\n",
       "</table>\n",
       "</div>"
      ],
      "text/plain": [
       "  group labels               scores                       prediction          \n",
       "         count sum      mean  count         sum      mean      count  sum mean\n",
       "0   G01   1766  72  0.040770   1766 -845.815901 -0.478944       1766  883  0.5\n",
       "1   G02   1766  24  0.013590   1766 -755.720049 -0.427928       1766    0  0.0\n",
       "2   G03   1766  14  0.007928   1766 -722.332102 -0.409022       1766    0  0.0\n",
       "3   G04   1766  23  0.013024   1766 -697.421928 -0.394916       1766    0  0.0\n",
       "4   G05   1766  20  0.011325   1766 -680.175216 -0.385150       1766    0  0.0\n",
       "5   G06   1766  17  0.009626   1766 -667.662054 -0.378065       1766    0  0.0\n",
       "6   G07   1766  13  0.007361   1766 -657.326846 -0.372212       1766    0  0.0\n",
       "7   G08   1766  15  0.008494   1766 -648.389831 -0.367152       1766    0  0.0\n",
       "8   G09   1766  17  0.009626   1766 -638.780004 -0.361710       1766    0  0.0\n",
       "9   G10   1767  14  0.007923   1767 -626.228737 -0.354402       1767    0  0.0"
      ]
     },
     "execution_count": 46,
     "metadata": {},
     "output_type": "execute_result"
    }
   ],
   "source": [
    "if_test_table"
   ]
  },
  {
   "cell_type": "code",
   "execution_count": null,
   "metadata": {},
   "outputs": [],
   "source": []
  }
 ],
 "metadata": {
  "kernelspec": {
   "display_name": "Python 3",
   "language": "python",
   "name": "python3"
  },
  "language_info": {
   "codemirror_mode": {
    "name": "ipython",
    "version": 3
   },
   "file_extension": ".py",
   "mimetype": "text/x-python",
   "name": "python",
   "nbconvert_exporter": "python",
   "pygments_lexer": "ipython3",
   "version": "3.6.8"
  }
 },
 "nbformat": 4,
 "nbformat_minor": 4
}
